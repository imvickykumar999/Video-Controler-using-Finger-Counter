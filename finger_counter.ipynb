{
 "cells": [
  {
   "cell_type": "code",
   "execution_count": 21,
   "metadata": {},
   "outputs": [
    {
     "name": "stdout",
     "output_type": "stream",
     "text": [
      "[STATUS] please wait! calibrating...\n",
      "[STATUS] calibration successfull...\n",
      "2\n"
     ]
    }
   ],
   "source": [
    "import cv2, math\n",
    "import imutils\n",
    "import numpy as np\n",
    "from sklearn.metrics import pairwise\n",
    "import vlc, time\n",
    "\n",
    "bg = None\n",
    "media = vlc.MediaPlayer(r\"C:\\Users\\Vicky Kumar\\Desktop\\videohandler\\Emiway ft. Macklemore - Firse Machayenge.mkv\")\n",
    "media.play()\n",
    "\n",
    "def run_avg(image, accumWeight):\n",
    "    global bg\n",
    "    if bg is None:\n",
    "        bg = image.copy().astype(\"float\")\n",
    "        return\n",
    "    cv2.accumulateWeighted(image, bg, accumWeight)\n",
    "\n",
    "def segment(image, threshold=25):\n",
    "    global bg\n",
    "    diff = cv2.absdiff(bg.astype(\"uint8\"), image)\n",
    "    thresholded = cv2.threshold(diff, threshold, 255, cv2.THRESH_BINARY)[1]\n",
    "    (cnts, _) = cv2.findContours(thresholded.copy(), cv2.RETR_EXTERNAL, cv2.CHAIN_APPROX_SIMPLE)\n",
    "    if len(cnts) == 0:\n",
    "        return\n",
    "    else:\n",
    "        segmented = max(cnts, key=cv2.contourArea)\n",
    "        return (thresholded, segmented)\n",
    "    \n",
    "def mode(test_list):\n",
    "    max = 0\n",
    "    res = test_list[0] \n",
    "    for i in test_list: \n",
    "        freq = test_list.count(i) \n",
    "        if freq > max: \n",
    "            max = freq \n",
    "            res = i\n",
    "    return res\n",
    "    \n",
    "def count(thresholded, segmented):\n",
    "    chull = cv2.convexHull(segmented)\n",
    "    extreme_top    = tuple(chull[chull[:, :, 1].argmin()][0])\n",
    "    extreme_bottom = tuple(chull[chull[:, :, 1].argmax()][0])\n",
    "    extreme_left   = tuple(chull[chull[:, :, 0].argmin()][0])\n",
    "    extreme_right  = tuple(chull[chull[:, :, 0].argmax()][0])\n",
    "    cX = int((extreme_left[0] + extreme_right[0]) / 2)\n",
    "    cY = int((extreme_top[1] + extreme_bottom[1]) / 2)\n",
    "    distance = pairwise.euclidean_distances([(cX, cY)], Y=[extreme_left, extreme_right, extreme_top, extreme_bottom])[0]\n",
    "    maximum_distance = distance[distance.argmax()]\n",
    "    radius = int(0.8 * maximum_distance)\n",
    "    circumference = (2 * np.pi * radius)\n",
    "    circular_roi = np.zeros(thresholded.shape[:2], dtype=\"uint8\")\n",
    "    cv2.circle(circular_roi, (cX, cY), radius, 255, 1)\n",
    "    circular_roi = cv2.bitwise_and(thresholded, thresholded, mask=circular_roi)\n",
    "    ( cnts, _) = cv2.findContours(circular_roi.copy(), cv2.RETR_EXTERNAL, cv2.CHAIN_APPROX_NONE)\n",
    "    \n",
    "    count = 0\n",
    "    for c in cnts:\n",
    "        (x, y, w, h) = cv2.boundingRect(c)\n",
    "        if ((cY + (cY * 0.25)) > (y + h)) and ((circumference * 0.25) > c.shape[0]):\n",
    "            count += 1\n",
    "    return count\n",
    "\n",
    "if __name__ == \"__main__\":\n",
    "    accumWeight = 0.5\n",
    "    camera = cv2.VideoCapture(0)\n",
    "    top, right, bottom, left = 10, 350, 225, 590\n",
    "    num_frames = 0\n",
    "    calibrated = False\n",
    "    avg = []\n",
    "    \n",
    "    while(True):\n",
    "        (grabbed, frame) = camera.read()\n",
    "        frame = imutils.resize(frame, width=700)\n",
    "        frame = cv2.flip(frame, 1)\n",
    "        clone = frame.copy()\n",
    "        (height, width) = frame.shape[:2]\n",
    "        roi = frame[top:bottom, right:left]\n",
    "        gray = cv2.cvtColor(roi, cv2.COLOR_BGR2GRAY)\n",
    "        gray = cv2.GaussianBlur(gray, (7, 7), 0)\n",
    "        \n",
    "        if num_frames < 30:\n",
    "            run_avg(gray, accumWeight)\n",
    "            if num_frames == 1:\n",
    "                print(\"[STATUS] please wait! calibrating...\")\n",
    "            elif num_frames == 29:\n",
    "                print(\"[STATUS] calibration successfull...\")\n",
    "        else:\n",
    "            hand = segment(gray)\n",
    "            if hand is not None:\n",
    "                (thresholded, segmented) = hand\n",
    "                cv2.drawContours(clone, [segmented + (right, top)], -1, (0, 0, 255))\n",
    "                fingers = count(thresholded, segmented)\n",
    "                avg.append(fingers)\n",
    "                res = mode(avg) \n",
    "                print(res)\n",
    "                if fingers==0 or fingers==1:\n",
    "                    avg = []\n",
    "                if res>3:\n",
    "                    media.pause()\n",
    "                    time.sleep(.001)\n",
    "                cv2.putText(clone, str(res), (70, 45), cv2.FONT_HERSHEY_SIMPLEX, 1, (0,0,255), 2)\n",
    "                cv2.imshow(\"Thesholded\", thresholded)\n",
    "                \n",
    "        cv2.rectangle(clone, (left, top), (right, bottom), (0,255,0), 2)\n",
    "        num_frames += 1\n",
    "        cv2.imshow(\"Video Feed\", clone)\n",
    "        keypress = cv2.waitKey(1) & 0xFF\n",
    "        if keypress == ord(\"q\"):\n",
    "            break\n",
    "            \n",
    "media.stop()\n",
    "camera.release()\n",
    "cv2.destroyAllWindows()"
   ]
  },
  {
   "cell_type": "code",
   "execution_count": 18,
   "metadata": {},
   "outputs": [
    {
     "name": "stdout",
     "output_type": "stream",
     "text": [
      "2\n"
     ]
    }
   ],
   "source": [
    "avg.append(fingers)\n",
    "print(math.ceil(mean(avg)))"
   ]
  },
  {
   "cell_type": "code",
   "execution_count": 19,
   "metadata": {},
   "outputs": [
    {
     "name": "stdout",
     "output_type": "stream",
     "text": [
      "2\n"
     ]
    }
   ],
   "source": [
    "avg.append(fingers)\n",
    "res = statistics.mode(avg) \n",
    "print(res)"
   ]
  },
  {
   "cell_type": "code",
   "execution_count": 22,
   "metadata": {},
   "outputs": [
    {
     "data": {
      "text/plain": [
       "7"
      ]
     },
     "execution_count": 22,
     "metadata": {},
     "output_type": "execute_result"
    }
   ],
   "source": [
    "def mode(test_list):\n",
    "    max = 0\n",
    "    res = test_list[0] \n",
    "    for i in test_list: \n",
    "        freq = test_list.count(i) \n",
    "        if freq > max: \n",
    "            max = freq \n",
    "            res = i\n",
    "    return res\n",
    "\n",
    "mode([1,4,2,7,7,7,7,7,7,77,3,4,4])"
   ]
  },
  {
   "cell_type": "code",
   "execution_count": 14,
   "metadata": {},
   "outputs": [],
   "source": [
    "import vlc\n",
    "media = vlc.MediaPlayer(r\"C:\\Users\\Vicky Kumar\\Desktop\\videohandler\\Emiway ft. Macklemore - Firse Machayenge.mkv\")"
   ]
  },
  {
   "cell_type": "code",
   "execution_count": 17,
   "metadata": {},
   "outputs": [
    {
     "data": {
      "text/plain": [
       "0"
      ]
     },
     "execution_count": 17,
     "metadata": {},
     "output_type": "execute_result"
    }
   ],
   "source": [
    "media.play()"
   ]
  },
  {
   "cell_type": "code",
   "execution_count": 16,
   "metadata": {},
   "outputs": [],
   "source": [
    "media.pause()"
   ]
  },
  {
   "cell_type": "code",
   "execution_count": 18,
   "metadata": {},
   "outputs": [],
   "source": [
    "media.stop()"
   ]
  },
  {
   "cell_type": "code",
   "execution_count": null,
   "metadata": {},
   "outputs": [],
   "source": []
  }
 ],
 "metadata": {
  "kernelspec": {
   "display_name": "Python 3",
   "language": "python",
   "name": "python3"
  },
  "language_info": {
   "codemirror_mode": {
    "name": "ipython",
    "version": 3
   },
   "file_extension": ".py",
   "mimetype": "text/x-python",
   "name": "python",
   "nbconvert_exporter": "python",
   "pygments_lexer": "ipython3",
   "version": "3.7.4"
  }
 },
 "nbformat": 4,
 "nbformat_minor": 4
}
